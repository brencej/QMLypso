{
 "cells": [
  {
   "cell_type": "code",
   "execution_count": 61,
   "id": "bdd807c5",
   "metadata": {},
   "outputs": [],
   "source": [
    "import numpy as np\n",
    "\n",
    "from pytket import Circuit\n",
    "from pytket.circuit import Pauli, PauliExpBox\n",
    "from pytket.circuit.display import render_circuit_jupyter \n",
    "from pytket.utils import get_operator_expectation_value\n",
    "\n",
    "from pytket.extensions.quantinuum import QuantinuumBackend\n",
    "from pytket.extensions.qiskit import AerStateBackend, AerBackend"
   ]
  },
  {
   "cell_type": "code",
   "execution_count": 39,
   "id": "612d848d",
   "metadata": {},
   "outputs": [],
   "source": [
    "def build_test_circuit(par):\n",
    "    circ = Circuit(1)\n",
    "    #circ.Rx(angle=par[0], qubit=0)\n",
    "    paulibox = PauliExpBox([Pauli.X], par[0])\n",
    "    circ.add_pauliexpbox(pauliexpbox=paulibox, qubits=[0])\n",
    "    circ.measure_all()\n",
    "    return circ\n"
   ]
  },
  {
   "cell_type": "code",
   "execution_count": 66,
   "id": "0400c50a",
   "metadata": {},
   "outputs": [
    {
     "data": {
      "text/html": [
       "\n",
       "\n",
       "\n",
       "\n",
       "\n",
       "\n",
       "<iframe srcdoc=\"\n",
       "&lt;!DOCTYPE html&gt;\n",
       "&lt;html lang=&#34;en&#34;&gt;\n",
       "&lt;head&gt;\n",
       "    &lt;meta charset=&#34;UTF-8&#34;&gt;\n",
       "\n",
       "    &lt;script type=&#34;application/javascript&#34; src=&#34;https://cdn.jsdelivr.net/npm/vue@3&#34;&gt;&lt;/script&gt;\n",
       "    &lt;script type=&#34;application/javascript&#34; src=&#34;https://unpkg.com/pytket-circuit-renderer@0.2/dist/pytket-circuit-renderer.umd.js&#34;&gt;&lt;/script&gt;\n",
       "    &lt;link rel=&#34;stylesheet&#34; href=&#34;https://unpkg.com/pytket-circuit-renderer@0.2/dist/pytket-circuit-renderer.css&#34;&gt;\n",
       "&lt;/head&gt;\n",
       "&lt;body&gt;\n",
       "    &lt;div id=&#34;circuit-display-vue-container-7c099d53-431f-410e-98e8-324ee5fffbb0&#34; class=&#34;pytket-circuit-display-container&#34;&gt;\n",
       "        &lt;div style=&#34;display: none&#34;&gt;\n",
       "            &lt;div id=&#34;circuit-json-to-display&#34;&gt;{&#34;bits&#34;: [[&#34;c&#34;, [0]]], &#34;commands&#34;: [{&#34;args&#34;: [[&#34;q&#34;, [0]]], &#34;op&#34;: {&#34;box&#34;: {&#34;id&#34;: &#34;80c0179b-2bc6-4c7c-accc-5fbd87f99a79&#34;, &#34;paulis&#34;: [&#34;X&#34;], &#34;phase&#34;: &#34;0.2&#34;, &#34;type&#34;: &#34;PauliExpBox&#34;}, &#34;type&#34;: &#34;PauliExpBox&#34;}}, {&#34;args&#34;: [[&#34;q&#34;, [0]], [&#34;c&#34;, [0]]], &#34;op&#34;: {&#34;type&#34;: &#34;Measure&#34;}}], &#34;implicit_permutation&#34;: [[[&#34;q&#34;, [0]], [&#34;q&#34;, [0]]]], &#34;phase&#34;: &#34;0.0&#34;, &#34;qubits&#34;: [[&#34;q&#34;, [0]]]}&lt;/div&gt;\n",
       "        &lt;/div&gt;\n",
       "        &lt;circuit-display-container :circuit-element-str=&#34;&#39;#circuit-json-to-display&#39;&#34;&gt;&lt;/circuit-display-container&gt;\n",
       "    &lt;/div&gt;\n",
       "\n",
       "    &lt;script type=&#34;application/javascript&#34;&gt;\n",
       "        const { createApp } = Vue;\n",
       "        const circuitDisplayContainer = window[&#34;pytket-circuit-renderer&#34;].default;\n",
       "\n",
       "        // Init variables to be shared between circuit display instances\n",
       "        if (typeof window.pytketCircuitDisplays === &#34;undefined&#34;) {\n",
       "            window.pytketCircuitDisplays = {};\n",
       "        }\n",
       "\n",
       "        const uid = &#34;7c099d53-431f-410e-98e8-324ee5fffbb0&#34;;\n",
       "\n",
       "        // Create the root Vue component\n",
       "        window.pytketCircuitDisplays[uid] = createApp({\n",
       "            delimiters: [&#39;[[#&#39;, &#39;#]]&#39;],\n",
       "            components: { circuitDisplayContainer },\n",
       "        }).mount(&#34;#circuit-display-vue-container-&#34;+uid);\n",
       "    &lt;/script&gt;\n",
       "&lt;/body&gt;\n",
       "&lt;/html&gt;\n",
       "\"\n",
       "        width=\"100%\" height=\"200px\"\n",
       "        style=\"border: none; outline: none; resize: vertical; overflow: auto\"></iframe>\n",
       "\n"
      ],
      "text/plain": [
       "<IPython.core.display.HTML object>"
      ]
     },
     "metadata": {},
     "output_type": "display_data"
    }
   ],
   "source": [
    "circ = build_test_circuit([0.2])\n",
    "render_circuit_jupyter(circ)"
   ]
  },
  {
   "cell_type": "code",
   "execution_count": 67,
   "id": "b260fae3",
   "metadata": {},
   "outputs": [],
   "source": [
    "backend = AerBackend()"
   ]
  },
  {
   "cell_type": "code",
   "execution_count": 68,
   "id": "a848e6af",
   "metadata": {},
   "outputs": [
    {
     "name": "stdout",
     "output_type": "stream",
     "text": [
      "Counter({(0,): 89, (1,): 11})\n"
     ]
    }
   ],
   "source": [
    "compcirc = backend.get_compiled_circuit(circ)\n",
    "handle = backend.process_circuit(compcirc, n_shots=100)\n",
    "res = backend.get_result(handle)\n",
    "print(res.get_counts())"
   ]
  },
  {
   "cell_type": "code",
   "execution_count": 50,
   "id": "9dfd2142",
   "metadata": {},
   "outputs": [],
   "source": [
    "def find_one_derivative(i, circuit_f, par, backend):\n",
    "    # only for pauli gates\n",
    "    circ_plus = circuit_f(par[:i] + [par[i]+np.pi/2] + [par[i+1:]])\n",
    "    circ_minus = circuit_f(par[:i] + [par[i] - np.pi/2] + [par[i+1:]])\n",
    "\n",
    "    \n",
    "    return circs"
   ]
  },
  {
   "cell_type": "code",
   "execution_count": 46,
   "id": "1db2137d",
   "metadata": {},
   "outputs": [],
   "source": [
    "circs = find_one_derivative(0, build_test_circuit, [1], None)"
   ]
  },
  {
   "cell_type": "code",
   "execution_count": 52,
   "id": "1b3f96f5",
   "metadata": {},
   "outputs": [
    {
     "name": "stdout",
     "output_type": "stream",
     "text": [
      "Help on function get_operator_expectation_value in module pytket.utils.expectations:\n",
      "\n",
      "get_operator_expectation_value(state_circuit: pytket._tket.circuit.Circuit, operator: pytket.utils.operators.QubitPauliOperator, backend: 'Backend', n_shots: Optional[int] = None, partition_strat: Optional[pytket._tket.partition.PauliPartitionStrat] = None, colour_method: pytket._tket.partition.GraphColourMethod = <GraphColourMethod.LargestFirst: 1>, **kwargs: Union[int, float, str, NoneType]) -> complex\n",
      "    Estimates the expectation value of the given circuit with respect to the operator\n",
      "    based on its individual Pauli terms. If the QubitPauliOperator has symbolic values\n",
      "    the expectation value will also be symbolic. The input circuit must belong to the\n",
      "    default qubit register and have contiguous qubit ordering.\n",
      "    \n",
      "    :param state_circuit: Circuit that generates the desired state\n",
      "        :math:`\\left|\\psi\\right>`\n",
      "    :type state_circuit: Circuit\n",
      "    :param operator: Operator :math:`H`. Currently does not support free symbols for the\n",
      "        purpose of obtaining expectation values.\n",
      "    :type operator: QubitPauliOperator\n",
      "    :param backend: pytket backend to run circuit on.\n",
      "    :type backend: Backend\n",
      "    :param n_shots: Number of shots to run if backend supports shots/counts. None will\n",
      "        force the backend to give the full state if available. Defaults to None\n",
      "    :type n_shots: Optional[int], optional\n",
      "    :param partition_strat: If retrieving shots, can perform measurement reduction using\n",
      "        a chosen strategy\n",
      "    :type partition_strat: Optional[PauliPartitionStrat], optional\n",
      "    :return: :math:`\\left<\\psi | H | \\psi \\right>`\n",
      "    :rtype: complex\n",
      "\n"
     ]
    }
   ],
   "source": [
    "help(get_operator_expectation_value)"
   ]
  },
  {
   "cell_type": "code",
   "execution_count": 75,
   "id": "0e8533de",
   "metadata": {},
   "outputs": [
    {
     "ename": "AttributeError",
     "evalue": "'pytket._tket.pauli.Pauli' object has no attribute 'map'",
     "output_type": "error",
     "traceback": [
      "\u001b[1;31m---------------------------------------------------------------------------\u001b[0m",
      "\u001b[1;31mAttributeError\u001b[0m                            Traceback (most recent call last)",
      "Cell \u001b[1;32mIn [75], line 18\u001b[0m\n\u001b[0;32m     11\u001b[0m zxy \u001b[38;5;241m=\u001b[39m QubitPauliString({\n\u001b[0;32m     12\u001b[0m         Qubit(\u001b[38;5;241m0\u001b[39m) : Pauli\u001b[38;5;241m.\u001b[39mZ,\n\u001b[0;32m     13\u001b[0m         Qubit(\u001b[38;5;241m1\u001b[39m) : Pauli\u001b[38;5;241m.\u001b[39mX,\n\u001b[0;32m     14\u001b[0m         Qubit(\u001b[38;5;241m2\u001b[39m) : Pauli\u001b[38;5;241m.\u001b[39mY})\n\u001b[0;32m     15\u001b[0m xzi \u001b[38;5;241m=\u001b[39m QubitPauliString({\n\u001b[0;32m     16\u001b[0m         Qubit(\u001b[38;5;241m0\u001b[39m) : Pauli\u001b[38;5;241m.\u001b[39mX,\n\u001b[0;32m     17\u001b[0m         Qubit(\u001b[38;5;241m1\u001b[39m) : Pauli\u001b[38;5;241m.\u001b[39mZ})\n\u001b[1;32m---> 18\u001b[0m op \u001b[38;5;241m=\u001b[39m \u001b[43mQubitPauliOperator\u001b[49m\u001b[43m(\u001b[49m\u001b[43m{\u001b[49m\n\u001b[0;32m     19\u001b[0m \u001b[43m        \u001b[49m\u001b[43mPauli\u001b[49m\u001b[38;5;241;43m.\u001b[39;49m\u001b[43mZ\u001b[49m\u001b[43m:\u001b[49m\u001b[38;5;241;43m1\u001b[39;49m\n\u001b[0;32m     20\u001b[0m \u001b[43m        \u001b[49m\u001b[38;5;66;43;03m#QubitPauliString() : 0.3,\u001b[39;49;00m\n\u001b[0;32m     21\u001b[0m \u001b[43m        \u001b[49m\u001b[38;5;66;43;03m#zxy : -1,\u001b[39;49;00m\n\u001b[0;32m     22\u001b[0m \u001b[43m        \u001b[49m\u001b[38;5;66;43;03m#xzi : 1}\u001b[39;49;00m\n\u001b[0;32m     23\u001b[0m \u001b[43m        \u001b[49m\u001b[43m}\u001b[49m\u001b[43m)\u001b[49m\n\u001b[0;32m     24\u001b[0m \u001b[38;5;28mprint\u001b[39m(get_pauli_expectation_value(\n\u001b[0;32m     25\u001b[0m         circ,\n\u001b[0;32m     26\u001b[0m         zxy,\n\u001b[0;32m     27\u001b[0m         backend,\n\u001b[0;32m     28\u001b[0m         n_shots\u001b[38;5;241m=\u001b[39m\u001b[38;5;241m2000\u001b[39m))\n\u001b[0;32m     29\u001b[0m \u001b[38;5;28mprint\u001b[39m(get_operator_expectation_value(\n\u001b[0;32m     30\u001b[0m         circ,\n\u001b[0;32m     31\u001b[0m         op,\n\u001b[0;32m     32\u001b[0m         backend,\n\u001b[0;32m     33\u001b[0m         n_shots\u001b[38;5;241m=\u001b[39m\u001b[38;5;241m2000\u001b[39m,\n\u001b[0;32m     34\u001b[0m         partition_strat\u001b[38;5;241m=\u001b[39mPauliPartitionStrat\u001b[38;5;241m.\u001b[39mCommutingSets))\n",
      "File \u001b[1;32m~\\Anaconda3\\envs\\tket-env\\lib\\site-packages\\pytket\\utils\\operators.py:63\u001b[0m, in \u001b[0;36mQubitPauliOperator.__init__\u001b[1;34m(self, dictionary)\u001b[0m\n\u001b[0;32m     59\u001b[0m \u001b[38;5;28;01mif\u001b[39;00m dictionary:\n\u001b[0;32m     60\u001b[0m     \u001b[38;5;28mself\u001b[39m\u001b[38;5;241m.\u001b[39m_dict \u001b[38;5;241m=\u001b[39m \u001b[38;5;28mdict\u001b[39m(\n\u001b[0;32m     61\u001b[0m         (key, sympify(value)) \u001b[38;5;28;01mfor\u001b[39;00m key, value \u001b[38;5;129;01min\u001b[39;00m dictionary\u001b[38;5;241m.\u001b[39mitems()  \u001b[38;5;66;03m# type: ignore\u001b[39;00m\n\u001b[0;32m     62\u001b[0m     )\n\u001b[1;32m---> 63\u001b[0m \u001b[38;5;28;43mself\u001b[39;49m\u001b[38;5;241;43m.\u001b[39;49m\u001b[43m_collect_qubits\u001b[49m\u001b[43m(\u001b[49m\u001b[43m)\u001b[49m\n",
      "File \u001b[1;32m~\\Anaconda3\\envs\\tket-env\\lib\\site-packages\\pytket\\utils\\operators.py:370\u001b[0m, in \u001b[0;36mQubitPauliOperator._collect_qubits\u001b[1;34m(self)\u001b[0m\n\u001b[0;32m    368\u001b[0m \u001b[38;5;28mself\u001b[39m\u001b[38;5;241m.\u001b[39m_all_qubits \u001b[38;5;241m=\u001b[39m \u001b[38;5;28mset\u001b[39m()\n\u001b[0;32m    369\u001b[0m \u001b[38;5;28;01mfor\u001b[39;00m key \u001b[38;5;129;01min\u001b[39;00m \u001b[38;5;28mself\u001b[39m\u001b[38;5;241m.\u001b[39m_dict\u001b[38;5;241m.\u001b[39mkeys():\n\u001b[1;32m--> 370\u001b[0m     \u001b[38;5;28;01mfor\u001b[39;00m q \u001b[38;5;129;01min\u001b[39;00m \u001b[43mkey\u001b[49m\u001b[38;5;241;43m.\u001b[39;49m\u001b[43mmap\u001b[49m\u001b[38;5;241m.\u001b[39mkeys():\n\u001b[0;32m    371\u001b[0m         \u001b[38;5;28mself\u001b[39m\u001b[38;5;241m.\u001b[39m_all_qubits\u001b[38;5;241m.\u001b[39madd(q)\n",
      "\u001b[1;31mAttributeError\u001b[0m: 'pytket._tket.pauli.Pauli' object has no attribute 'map'"
     ]
    }
   ],
   "source": [
    "from pytket import Circuit, Qubit\n",
    "from pytket.extensions.qiskit import AerBackend\n",
    "from pytket.partition import PauliPartitionStrat\n",
    "    from pytket.pauli import Pauli, QubitPauliString\n",
    "from pytket.utils import get_pauli_expectation_value, get_operator_expectation_value\n",
    "from pytket.utils.operators import QubitPauliOperator\n",
    "circ = Circuit(3)\n",
    "circ.Rx(0.3, 0).CX(0, 1).CZ(1, 2)   # Generate the state we want to consider\n",
    "backend = AerBackend()\n",
    "\n",
    "zxy = QubitPauliString({\n",
    "        Qubit(0) : Pauli.Z,\n",
    "        Qubit(1) : Pauli.X,\n",
    "        Qubit(2) : Pauli.Y})\n",
    "xzi = QubitPauliString({\n",
    "        Qubit(0) : Pauli.X,\n",
    "        Qubit(1) : Pauli.Z})\n",
    "op = QubitPauliOperator({\n",
    "        Pauli.Z: 1\n",
    "        #QubitPauliString() : 0.3,\n",
    "        #zxy : -1,\n",
    "        #xzi : 1}\n",
    "        })\n",
    "print(get_pauli_expectation_value(\n",
    "        circ,\n",
    "        zxy,\n",
    "        backend,\n",
    "        n_shots=2000))\n",
    "print(get_operator_expectation_value(\n",
    "        circ,\n",
    "        op,\n",
    "        backend,\n",
    "        n_shots=2000,\n",
    "        partition_strat=PauliPartitionStrat.CommutingSets))"
   ]
  },
  {
   "cell_type": "code",
   "execution_count": 70,
   "id": "2e79817c",
   "metadata": {},
   "outputs": [
    {
     "data": {
      "text/plain": [
       "{(): 0.300000000000000, (Zq[0], Xq[1], Yq[2]): -1, (Xq[0], Zq[1]): 1}"
      ]
     },
     "execution_count": 70,
     "metadata": {},
     "output_type": "execute_result"
    }
   ],
   "source": [
    "op"
   ]
  },
  {
   "cell_type": "code",
   "execution_count": 77,
   "id": "c2a0e2ae",
   "metadata": {},
   "outputs": [
    {
     "name": "stdout",
     "output_type": "stream",
     "text": [
      "Help on method Ry in module pytket._tket.circuit:\n",
      "\n",
      "Ry(...) method of pytket._tket.circuit.Circuit instance\n",
      "    Ry(*args, **kwargs)\n",
      "    Overloaded function.\n",
      "    \n",
      "    1. Ry(self: pytket._tket.circuit.Circuit, angle: Expression, qubit: int, **kwargs) -> pytket._tket.circuit.Circuit\n",
      "    \n",
      "    Appends an Ry gate with a possibly symbolic angle (specified in half-turns).\n",
      "    \n",
      "    :return: the new :py:class:`Circuit`\n",
      "    \n",
      "    2. Ry(self: pytket._tket.circuit.Circuit, angle: Expression, qubit: pytket._tket.circuit.Qubit, **kwargs) -> pytket._tket.circuit.Circuit\n",
      "    \n",
      "    Appends an Ry gate with a possibly symbolic angle (specified in half-turns).\n",
      "    \n",
      "    :return: the new :py:class:`Circuit`\n",
      "\n"
     ]
    }
   ],
   "source": [
    "help(circ.Ry)"
   ]
  },
  {
   "cell_type": "code",
   "execution_count": null,
   "id": "59e93312",
   "metadata": {},
   "outputs": [],
   "source": []
  }
 ],
 "metadata": {
  "kernelspec": {
   "display_name": "Python [conda env:tket-env]",
   "language": "python",
   "name": "conda-env-tket-env-py"
  },
  "language_info": {
   "codemirror_mode": {
    "name": "ipython",
    "version": 3
   },
   "file_extension": ".py",
   "mimetype": "text/x-python",
   "name": "python",
   "nbconvert_exporter": "python",
   "pygments_lexer": "ipython3",
   "version": "3.10.4"
  }
 },
 "nbformat": 4,
 "nbformat_minor": 5
}
